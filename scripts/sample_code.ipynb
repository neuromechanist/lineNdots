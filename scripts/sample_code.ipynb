{
 "cells": [
  {
   "cell_type": "code",
   "execution_count": null,
   "metadata": {},
   "outputs": [],
   "source": [
    "from lineNdots import lnd"
   ]
  },
  {
   "cell_type": "code",
   "execution_count": null,
   "metadata": {},
   "outputs": [],
   "source": [
    "import numpy as np\n",
    "import pandas as pd\n",
    "import seaborn as sns\n",
    "import matplotlib.pyplot as plt\n",
    "\n",
    "# Set the seed for reproducibility\n",
    "np.random.seed(0)\n",
    "\n",
    "# Create a random dataset\n",
    "data = pd.DataFrame({\n",
    "    'x': np.random.choice(['A', 'B', 'C'], 100),\n",
    "    'y': np.random.normal(0, 1, 100),\n",
    "    'hue': np.random.choice(['red', 'blue'], 100)\n",
    "})\n",
    "\n",
    "# Create a palette\n",
    "palette = sns.color_palette(\"hls\", 8)\n",
    "\n",
    "# Create a figure and axes\n",
    "fig, axs = plt.subplots(2, 1)\n",
    "\n",
    "# Test the combined function with x\n",
    "lnd(\n",
    "    data, 'y', 'hue', palette, axs[0], None, None, None, None, None, False, 0.1, 0.1, 10, 5, 1, x='x'\n",
    ")\n",
    "\n",
    "# Test the combined function without x\n",
    "lnd(\n",
    "    data, 'y', 'hue', palette, axs[1], None, None, None, None, None, False, 0.1, 0.1, 10, 5, 1\n",
    ")\n",
    "\n",
    "plt.show()"
   ]
  },
  {
   "cell_type": "code",
   "execution_count": null,
   "metadata": {},
   "outputs": [],
   "source": [
    "fig, axs = plt.subplots(2, 1)\n",
    "sns.stripplot(data=data, y='y', hue='hue', palette=palette, ax=axs[0])"
   ]
  },
  {
   "cell_type": "code",
   "execution_count": null,
   "metadata": {},
   "outputs": [],
   "source": [
    "plt.plot([-0.10251226725537968, -0.10251226725537968], [-0.8284515543340207, 0.9562615970703028], color=np.array([0.86  , 0.3712, 0.34  , 1.    ]), lw=1)"
   ]
  },
  {
   "cell_type": "code",
   "execution_count": null,
   "metadata": {},
   "outputs": [],
   "source": [
    "import numpy.ma as ma"
   ]
  },
  {
   "cell_type": "code",
   "execution_count": null,
   "metadata": {},
   "outputs": [],
   "source": [
    "ma.getdata(x)"
   ]
  },
  {
   "cell_type": "code",
   "execution_count": null,
   "metadata": {},
   "outputs": [],
   "source": []
  }
 ],
 "metadata": {
  "kernelspec": {
   "display_name": "base",
   "language": "python",
   "name": "python3"
  },
  "language_info": {
   "codemirror_mode": {
    "name": "ipython",
    "version": 3
   },
   "file_extension": ".py",
   "mimetype": "text/x-python",
   "name": "python",
   "nbconvert_exporter": "python",
   "pygments_lexer": "ipython3",
   "version": "3.9.18"
  }
 },
 "nbformat": 4,
 "nbformat_minor": 2
}
