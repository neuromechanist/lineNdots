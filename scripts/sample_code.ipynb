{
 "cells": [
  {
   "cell_type": "code",
   "execution_count": 1,
   "metadata": {},
   "outputs": [],
   "source": [
    "from lineNdots import lnd"
   ]
  },
  {
   "cell_type": "code",
   "execution_count": 6,
   "metadata": {},
   "outputs": [],
   "source": [
    "import numpy as np\n",
    "import pandas as pd\n",
    "import seaborn as sns\n",
    "import matplotlib.pyplot as plt\n",
    "from scipy import stats\n",
    "\n",
    "# Set the seed for reproducibility\n",
    "np.random.seed(0)\n",
    "\n",
    "# Create a random dataset\n",
    "data = pd.DataFrame({\n",
    "    'x': np.random.choice(['A', 'B', 'C'], 100),\n",
    "    'y': np.random.normal(0, 1, 100),\n",
    "    'hue': np.random.choice(['red', 'blue'], 100)\n",
    "})\n",
    "\n",
    "# Create a palette\n",
    "palette = sns.color_palette(\"muted\", 2)\n",
    "\n",
    "# Create a figure and axes\n",
    "fig, axs = plt.subplots(2, 1)\n",
    "\n",
    "# Test the combined function with x\n",
    "lnd(\n",
    "    data, 'y', 'hue', 'x', palette=palette, agg_function=np.median, var_function=np.std,\n",
    "    ax=axs[0], colors=None, line=True, dots=True, flipped=False,\n",
    "    verbose=False, adtnl_space=0.1, mean_size=20, size=10, lw=2)\n",
    "\n",
    "# Test the combined function without x\n",
    "lnd(\n",
    "    data, 'y', 'x', palette=palette, agg_function=np.median, \n",
    "    ax=axs[1], colors=None, line=True, dots=True, flipped=False,\n",
    "    verbose=False, adtnl_space=0.1, mean_size=20, size=10, lw=2)\n",
    "\n",
    "plt.show()"
   ]
  }
 ],
 "metadata": {
  "kernelspec": {
   "display_name": "base",
   "language": "python",
   "name": "python3"
  },
  "language_info": {
   "codemirror_mode": {
    "name": "ipython",
    "version": 3
   },
   "file_extension": ".py",
   "mimetype": "text/x-python",
   "name": "python",
   "nbconvert_exporter": "python",
   "pygments_lexer": "ipython3",
   "version": "3.10.13"
  }
 },
 "nbformat": 4,
 "nbformat_minor": 2
}
